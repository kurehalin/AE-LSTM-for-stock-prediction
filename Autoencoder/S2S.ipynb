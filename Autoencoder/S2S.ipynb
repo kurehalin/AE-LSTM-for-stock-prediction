{
 "cells": [
  {
   "cell_type": "code",
   "execution_count": null,
   "metadata": {},
   "outputs": [],
   "source": [
    "#LSTM-based AE\n",
    "import keras\n",
    "def S2S(input_dim = 24,timesteps=60,latent_dim=1166):\n",
    "    import keras\n",
    "    inputs = keras.Input(shape=(timesteps, input_dim))\n",
    "    encoded = keras.layers.LSTM(latent_dim)(inputs)\n",
    "\n",
    "    decoded = keras.layers.RepeatVector(timesteps)(encoded)\n",
    "    decoded = keras.layers.LSTM(input_dim, return_sequence=True)(decoded)\n",
    "\n",
    "    sequence_autoencoder =keras.Model(inputs, decoded)\n",
    "    encoder = keras.Model(inputs, encoded)\n",
    "    return sequence_autoencoder,encoder\n",
    "\n"
   ]
  }
 ],
 "metadata": {
  "language_info": {
   "name": "python"
  },
  "orig_nbformat": 4
 },
 "nbformat": 4,
 "nbformat_minor": 2
}
