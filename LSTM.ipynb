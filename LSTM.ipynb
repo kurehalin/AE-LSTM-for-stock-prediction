{
 "cells": [
  {
   "cell_type": "code",
   "execution_count": null,
   "metadata": {},
   "outputs": [],
   "source": [
    "class LSTM ():\n",
    "    def __init__():\n",
    "        '''Vanilla LSTM'''\n",
    "    def PCA_LSTM():\n",
    "        '''PCA LSTM'''\n",
    "    def AE_LSTM():\n",
    "        '''AE LSTM'''"
   ]
  }
 ],
 "metadata": {
  "language_info": {
   "name": "python"
  },
  "orig_nbformat": 4
 },
 "nbformat": 4,
 "nbformat_minor": 2
}
