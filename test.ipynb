{
 "cells": [
  {
   "cell_type": "code",
   "execution_count": 1,
   "metadata": {},
   "outputs": [
    {
     "name": "stdout",
     "output_type": "stream",
     "text": [
      "8\n"
     ]
    }
   ],
   "source": [
    "import tensorflow as tf\n",
    "class Encoder(tf.keras.Model):\n",
    "    def __init__(self, INPUT_SHAPE):\n",
    "        super(Encoder, self).__init__()\n",
    "        self.dense1 = tf.keras.layers.Dense(128, input_shape=(INPUT_SHAPE,), activation='relu')\n",
    "        self.dense2 = tf.keras.layers.Dense(INPUT_SHAPE, activation='relu')\n",
    "    \n",
    "    def call(self, inp, training=False):        \n",
    "        x = self.dense1(x)\n",
    "        x = self.dense2(x)\n",
    "        return x\n",
    "    \n",
    "class Decoder(tf.keras.Model):\n",
    "    def __init__(self, INPUT_SHAPE):\n",
    "        super(Decoder, self).__init__()\n",
    "        self.dense3 = tf.keras.layers.Dense(128, input_shape=(INPUT_SHAPE,), activation='relu')\n",
    "        self.dense4 = tf.keras.layers.Dense(3)\n",
    "        \n",
    "    def call(self, inp, training=False):\n",
    "        x = self.dense3(x)\n",
    "        x = self.dense4(x)\n",
    "        return x"
   ]
  },
  {
   "cell_type": "code",
   "execution_count": null,
   "metadata": {},
   "outputs": [],
   "source": [
    "class AE(tf.keras.Model):\n",
    "  def __init__(self, INPUT_SHAPE):\n",
    "    super(AE, self).__init__()\n",
    "    self.encoder = Encoder(INPUT_SHAPE)\n",
    "    self.decoder = Decoder(INPUT_SHAPE)\n",
    "\n",
    "  def call(self, inp):\n",
    "    out_encoder = self.encoder(inp)\n",
    "    out_decoder = self.decoder(out_encoder)\n",
    "    return out_encoder, out_decoder"
   ]
  },
  {
   "cell_type": "code",
   "execution_count": null,
   "metadata": {},
   "outputs": [],
   "source": []
  }
 ],
 "metadata": {
  "interpreter": {
   "hash": "b8c14f33bbed64c468da1083d9a4ffa45baefb3d16ddb62461ae8fba926c479d"
  },
  "kernelspec": {
   "display_name": "Python 3.9.7 64-bit ('ML': conda)",
   "language": "python",
   "name": "python3"
  },
  "language_info": {
   "codemirror_mode": {
    "name": "ipython",
    "version": 3
   },
   "file_extension": ".py",
   "mimetype": "text/x-python",
   "name": "python",
   "nbconvert_exporter": "python",
   "pygments_lexer": "ipython3",
   "version": "3.9.7"
  },
  "orig_nbformat": 4
 },
 "nbformat": 4,
 "nbformat_minor": 2
}
